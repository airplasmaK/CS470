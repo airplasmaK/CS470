{
 "cells": [
  {
   "cell_type": "markdown",
   "source": [
    "# CS470 - Introduction to Artificial Intelligence\r\n",
    "#### Prof. Ho-Jin Choi\r\n",
    "#### School of Computing, KAIST\r\n",
    "---"
   ],
   "metadata": {}
  },
  {
   "cell_type": "markdown",
   "source": [
    "## Information\n",
    "**Please write your student ID and name here!**\n",
    "- Student ID:\n",
    "- Name:\n",
    "\n",
    "---"
   ],
   "metadata": {}
  },
  {
   "cell_type": "markdown",
   "source": [
    "## Homework #2: Action Recognition\r\n",
    "\r\n",
    "In this assignment, you are going to recognize an action of a given video using both a convolutional neural network and a recurrent neural network. Please follow the steps below to continue this assignment."
   ],
   "metadata": {}
  },
  {
   "cell_type": "markdown",
   "source": [
    "### Guidelines\r\n",
    "Copy this example to your Google Colab and edit it to complete your assignment. We should be able to reproduce your results using your code and pre-trained model. Please double-check if your code runs without error properly. Submissions failed to run or reproduce the results will get a substantial penalty.\r\n",
    "\r\n",
    "### Extra points\r\n",
    "TAs will rank the submissions based on the test accuracy and assign extra points according to the rank. (The baseline accuracy is roughly 44%.)\r\n",
    " \r\n",
    "If you improve your model's accuracy using various techniques (e.g., more stacking layer, early stopping, etc.), then please write how to improve into the block at the bottom. \r\n",
    "\r\n",
    "### Deliverables\r\n",
    "\r\n",
    "- Download your Colab notebook, and your pre-trained model (i.e., checkpoint), and submit a zip file in a format: [StudentID].zip. Please double-check that you load your pre-trained model properly.\r\n",
    "- Your assignment should be submitted through KLMS. All other submissions (e.g., via email) will not be considered as valid submissions.\r\n",
    "\r\n",
    "### Due date\r\n",
    "\r\n",
    "- **23:59:59 Oct 5th (Tue).**\r\n",
    "- Late submission is allowed until 23:59:59 Oct 7th (Thu).\r\n",
    "- Late submission will be applied 20% penalty."
   ],
   "metadata": {}
  },
  {
   "cell_type": "code",
   "execution_count": 1,
   "source": [
    "try:\r\n",
    "    %tensorflow_version 2.x\r\n",
    "except Exception:\r\n",
    "    pass\r\n",
    "\r\n",
    "import os\r\n",
    "import random\r\n",
    "import re\r\n",
    "\r\n",
    "import numpy as np\r\n",
    "import matplotlib.pyplot as plt\r\n",
    "import tensorflow as tf\r\n",
    "\r\n",
    "from tqdm.auto import tqdm\r\n",
    "\r\n",
    "# DO NOT EDIT THE FOLLOWING LINES\r\n",
    "# THESE LINES ARE FOR REPRODUCIBILITY\r\n",
    "random.seed(0)\r\n",
    "np.random.seed(0)\r\n",
    "tf.random.set_seed(0)"
   ],
   "outputs": [
    {
     "output_type": "error",
     "ename": "ModuleNotFoundError",
     "evalue": "No module named 'matplotlib'",
     "traceback": [
      "\u001b[1;31m---------------------------------------------------------------------------\u001b[0m",
      "\u001b[1;31mModuleNotFoundError\u001b[0m                       Traceback (most recent call last)",
      "\u001b[1;32m<ipython-input-1-c5a58d167a65>\u001b[0m in \u001b[0;36m<module>\u001b[1;34m\u001b[0m\n\u001b[0;32m      9\u001b[0m \u001b[1;33m\u001b[0m\u001b[0m\n\u001b[0;32m     10\u001b[0m \u001b[1;32mimport\u001b[0m \u001b[0mnumpy\u001b[0m \u001b[1;32mas\u001b[0m \u001b[0mnp\u001b[0m\u001b[1;33m\u001b[0m\u001b[1;33m\u001b[0m\u001b[0m\n\u001b[1;32m---> 11\u001b[1;33m \u001b[1;32mimport\u001b[0m \u001b[0mmatplotlib\u001b[0m\u001b[1;33m.\u001b[0m\u001b[0mpyplot\u001b[0m \u001b[1;32mas\u001b[0m \u001b[0mplt\u001b[0m\u001b[1;33m\u001b[0m\u001b[1;33m\u001b[0m\u001b[0m\n\u001b[0m\u001b[0;32m     12\u001b[0m \u001b[1;32mimport\u001b[0m \u001b[0mtensorflow\u001b[0m \u001b[1;32mas\u001b[0m \u001b[0mtf\u001b[0m\u001b[1;33m\u001b[0m\u001b[1;33m\u001b[0m\u001b[0m\n\u001b[0;32m     13\u001b[0m \u001b[1;33m\u001b[0m\u001b[0m\n",
      "\u001b[1;31mModuleNotFoundError\u001b[0m: No module named 'matplotlib'"
     ]
    }
   ],
   "metadata": {}
  },
  {
   "cell_type": "markdown",
   "source": [
    "### 1. Load the UCF101 dataset\r\n",
    "\r\n",
    "In this assignment, you will use the UCF101 which is an action recognition dataset of realistic action videos, collected from YouTube, having 101 action categories. (*Soomro, K., Zamir, A. R., & Shah, M. (2012). UCF101: A dataset of 101 human actions classes from videos in the wild. arXiv preprint arXiv:1212.0402.*)\r\n",
    "\r\n",
    "![UCF101 Dataset](https://github.com/keai-kaist/CS492F-Spring/blob/master/Assignments/Homework%202/images/ucf101.jpg?raw=true)"
   ],
   "metadata": {}
  },
  {
   "cell_type": "markdown",
   "source": [
    "The UCF101 dataset consists of 13,320 videos and their labels. Since your computing resource in Google Colab is somewhat limited, TA sampled half of the dataset, limited the length of videos to 64 frames, separated videos into frames and stored them to a single file in advance. \n",
    "\n",
    "Let's download and load this file. **(If the link below is not working, please let TA know to fix the link)**"
   ],
   "metadata": {}
  },
  {
   "cell_type": "code",
   "execution_count": null,
   "source": [
    "import pickle\r\n",
    "\r\n",
    "if not os.path.exists('ucf101.pickle'):\r\n",
    "    !wget -O 'ucf101.pickle' 'https://www.dropbox.com/s/2558ailo46px55j/ucf101.pickle?dl=1'\r\n",
    "\r\n",
    "    # If the link above is not working, you can also use the following link but it would be slower than the above.\r\n",
    "    # !wget -O 'ucf101.pickle' 'http://cs492f.keai.io/ucf101.pickle'\r\n",
    "    \r\n",
    "with open('ucf101.pickle', 'rb') as input_file:\r\n",
    "    dataset = pickle.load(input_file)\r\n",
    "    \r\n",
    "num_trains = len(dataset['train'])\r\n",
    "num_validations = len(dataset['validation'])\r\n",
    "num_tests = len(dataset['test'])"
   ],
   "outputs": [],
   "metadata": {}
  },
  {
   "cell_type": "code",
   "execution_count": null,
   "source": [
    "index_to_label = [\r\n",
    "    'ApplyEyeMakeup', 'ApplyLipstick', 'Archery', 'BabyCrawling', 'BalanceBeam', \r\n",
    "    'BandMarching', 'BaseballPitch', 'Basketball', 'BasketballDunk', 'BenchPress', \r\n",
    "    'Biking', 'Billiards', 'BlowDryHair', 'BlowingCandles', 'BodyWeightSquats', \r\n",
    "    'Bowling', 'BoxingPunchingBag', 'BoxingSpeedBag', 'BreastStroke', 'BrushingTeeth', \r\n",
    "    'CleanAndJerk', 'CliffDiving', 'CricketBowling', 'CricketShot', 'CuttingInKitchen', \r\n",
    "    'Diving', 'Drumming', 'Fencing', 'FieldHockeyPenalty', 'FloorGymnastics', \r\n",
    "    'FrisbeeCatch', 'FrontCrawl', 'GolfSwing', 'Haircut', 'Hammering', \r\n",
    "    'HammerThrow', 'HandstandPushups', 'HandstandWalking', 'HeadMassage', 'HighJump', \r\n",
    "    'HorseRace', 'HorseRiding', 'HulaHoop', 'IceDancing', 'JavelinThrow', \r\n",
    "    'JugglingBalls', 'JumpingJack', 'JumpRope', 'Kayaking', 'Knitting', \r\n",
    "    'LongJump', 'Lunges', 'MilitaryParade', 'Mixing', 'MoppingFloor', \r\n",
    "    'Nunchucks', 'ParallelBars', 'PizzaTossing', 'PlayingCello', 'PlayingDaf', \r\n",
    "    'PlayingDhol', 'PlayingFlute', 'PlayingGuitar', 'PlayingPiano', 'PlayingSitar', \r\n",
    "    'PlayingTabla', 'PlayingViolin', 'PoleVault', 'PommelHorse', 'PullUps', \r\n",
    "    'Punch', 'PushUps', 'Rafting', 'RockClimbingIndoor', 'RopeClimbing', \r\n",
    "    'Rowing', 'SalsaSpin', 'ShavingBeard', 'Shotput', 'SkateBoarding', \r\n",
    "    'Skiing', 'Skijet', 'SkyDiving', 'SoccerJuggling', 'SoccerPenalty', \r\n",
    "    'StillRings', 'SumoWrestling', 'Surfing', 'Swing', 'TableTennisShot', \r\n",
    "    'TaiChi', 'TennisSwing', 'ThrowDiscus', 'TrampolineJumping', 'Typing', \r\n",
    "    'UnevenBars', 'VolleyballSpiking', 'WalkingWithDog', 'WallPushups', 'WritingOnBoard', \r\n",
    "    'YoYo', \r\n",
    "]"
   ],
   "outputs": [],
   "metadata": {}
  },
  {
   "cell_type": "markdown",
   "source": [
    "Let's visualize what some of these videos and their corresponding labels look like."
   ],
   "metadata": {}
  },
  {
   "cell_type": "code",
   "execution_count": null,
   "source": [
    "from matplotlib.animation import FuncAnimation\r\n",
    "from IPython.display import display, HTML\r\n",
    "\r\n",
    "def plot_frames(frames):\r\n",
    "    figure = plt.figure(figsize=(frames.shape[1] / 72, frames.shape[2] / 72), dpi=72)\r\n",
    "    image = plt.figimage(frames[0])\r\n",
    "    \r\n",
    "    def animate(step):\r\n",
    "        image.set_array(frames[step])\r\n",
    "        return (image, )\r\n",
    "    \r\n",
    "    video = FuncAnimation(\r\n",
    "        figure, animate, \r\n",
    "        frames=len(frames), interval=33, \r\n",
    "        repeat_delay=1, repeat=True\r\n",
    "    ).to_html5_video()\r\n",
    "    \r\n",
    "    display(HTML(video))"
   ],
   "outputs": [],
   "metadata": {}
  },
  {
   "cell_type": "code",
   "execution_count": null,
   "source": [
    "for frames, label in random.sample(dataset['train'], 3):\r\n",
    "    plot_frames(tf.stack([tf.image.decode_jpeg(frame) for frame in frames]))\r\n",
    "    print('Label:', index_to_label[label])"
   ],
   "outputs": [],
   "metadata": {}
  },
  {
   "cell_type": "markdown",
   "source": [
    "### 2. Preprocess the dataset\n",
    "\n",
    "Unlike images and text, video data contains both spatial and temporal information. Therefore, to handle these data, you will use both convolutional neural networks and recurrent neural networks to recognize an action of the videos.\n",
    "\n",
    "First, let's extract meaningful features from video frames using the pre-trained convolutional neural networks."
   ],
   "metadata": {}
  },
  {
   "cell_type": "markdown",
   "source": [
    "#### Problem 1\n",
    "Define a model to extract meaningful features from the given video frame using the pre-trained convolutional neural networks of your choice.\n",
    "\n",
    "This model should output a 1D vector for one given frame. That is,\n",
    "- In: `(1, 256, 256, 3)` → Out: `(1, dimension of features of your choice)`\n",
    "- In: `(5, 256, 256, 3)` → Out: `(5, dimension of features of your choice)`\n",
    "- In: `(number of frames, 256, 256, 3)` → Out: `(number of frames, dimension of features of your choice)`"
   ],
   "metadata": {}
  },
  {
   "cell_type": "code",
   "execution_count": null,
   "source": [
    "# TODO: Define a model to extract features from the given video frame\r\n",
    "#       using the pre-trained convolutional neural networks of your choice.\r\n",
    "\r\n",
    "### START CODE HERE ###\r\n",
    "cnn_model = \r\n",
    "### END CODE HERE ###"
   ],
   "outputs": [],
   "metadata": {}
  },
  {
   "cell_type": "markdown",
   "source": [
    "#### Problem 2\n",
    "To extract features from the given frames, TA provided `extract_features()` function. In this function, you need to **preprocess each frame** so it can be fed into the `cnn_model`"
   ],
   "metadata": {}
  },
  {
   "cell_type": "code",
   "execution_count": null,
   "source": [
    "# This function extracts features from the given frames using the defined cnn_model\r\n",
    "# - In: frames.shape = (number of frames, 256, 256, 3)\r\n",
    "# - Out: features.shape = (number of frames, dimension of features of your choice)\r\n",
    "def extract_features(frames, batch=32):\r\n",
    "    # TODO: Preprocess each frame so it can be fed into the `cnn_model`\r\n",
    "    ### START CODE HERE ###\r\n",
    "\r\n",
    "    ### END CODE HERE ###\r\n",
    "    \r\n",
    "    features = tf.concat([\r\n",
    "        cnn_model(frames[index:index + batch])\r\n",
    "        for index in range(0, frames.shape[0], batch)\r\n",
    "    ], axis=0)\r\n",
    "    \r\n",
    "    if features.shape[0] < max_length:\r\n",
    "        features = tf.concat([\r\n",
    "            features,\r\n",
    "            tf.zeros((max_length - features.shape[0], *features.shape[1:]))\r\n",
    "        ], axis=0)\r\n",
    "    \r\n",
    "    return features.numpy()"
   ],
   "outputs": [],
   "metadata": {}
  },
  {
   "cell_type": "markdown",
   "source": [
    "Now, you can extract features from the video but this task is very time-consuming. Therefore, TA provided `preprocess_dataset()` function which takes a dataset, extracts features from the dataset, stores the features into a file, and loads the features from the file."
   ],
   "metadata": {}
  },
  {
   "cell_type": "code",
   "execution_count": null,
   "source": [
    "import os\r\n",
    "import pickle\r\n",
    "\r\n",
    "max_length = 32 # DO NOT CHANGE THIS NUMBER\r\n",
    "\r\n",
    "def decode_frames(frames):\r\n",
    "    return tf.stack([tf.image.decode_jpeg(frame) for frame in frames])\r\n",
    "\r\n",
    "def preprocess_dataset(dataset, filename):\r\n",
    "    if os.path.exists(filename):\r\n",
    "        with open(filename, 'rb') as input_file:\r\n",
    "            return pickle.load(input_file)\r\n",
    "    else:\r\n",
    "        tensors = [\r\n",
    "            (extract_features(decode_frames(frames[:max_length])), label)\r\n",
    "            for frames, label in tqdm(dataset)\r\n",
    "        ]\r\n",
    "        \r\n",
    "        X, y = zip(*tensors)\r\n",
    "        X, y = np.array(X), np.array(y)\r\n",
    "        \r\n",
    "        with open(filename, 'wb') as output_file:\r\n",
    "            pickle.dump((X, y), output_file, protocol=4) # protocol=4 supports a byte objects larget than 4GB\r\n",
    "        \r\n",
    "        return (X, y)"
   ],
   "outputs": [],
   "metadata": {}
  },
  {
   "cell_type": "markdown",
   "source": [
    "Let's extract features from all the datasets. **Please note that the first run takes about 30 minutes.**"
   ],
   "metadata": {}
  },
  {
   "cell_type": "code",
   "execution_count": null,
   "source": [
    "train_features, train_labels = preprocess_dataset(dataset['train'], f'train-dataset-{max_length}-{num_trains}.pickle')\r\n",
    "validation_features, validation_labels = preprocess_dataset(dataset['validation'], f'validation-dataset-{max_length}-{num_validations}.pickle')\r\n",
    "test_features, test_labels = preprocess_dataset(dataset['test'], f'test-dataset-{max_length}-{num_tests}.pickle')"
   ],
   "outputs": [],
   "metadata": {}
  },
  {
   "cell_type": "markdown",
   "source": [
    "Then, combine the features into batches."
   ],
   "metadata": {}
  },
  {
   "cell_type": "code",
   "execution_count": null,
   "source": [
    "batch_size = 64\r\n",
    "\r\n",
    "batch_train_dataset = tf.data.Dataset.from_tensor_slices((train_features, train_labels)).shuffle(512).batch(batch_size)\r\n",
    "batch_validation_dataset = tf.data.Dataset.from_tensor_slices((validation_features, validation_labels)).batch(batch_size)\r\n",
    "batch_test_dataset = tf.data.Dataset.from_tensor_slices((test_features, test_labels)).batch(batch_size)"
   ],
   "outputs": [],
   "metadata": {}
  },
  {
   "cell_type": "markdown",
   "source": [
    "### 3. Build the model\n",
    "All videos are transformed into 2D tensors via convolutional neural networks. To process these tensors, let's build a recurrent neural network.\n",
    "\n",
    "#### Problem 3\n",
    "Define a recurrent neural network to recognize one of `num_classes` actions from the given video. Becaue all videos have different lengths, your `lstm_model` should take account this into account. To do that, TA added `tf.keras.layers.Masking` layer in advance."
   ],
   "metadata": {}
  },
  {
   "cell_type": "code",
   "execution_count": null,
   "source": [
    "num_classes = len(index_to_label)\r\n",
    "\r\n",
    "lstm_model = tf.keras.Sequential([\r\n",
    "    tf.keras.layers.Masking(mask_value=0.0), # DO NOT REMOVE THIS LAYER\r\n",
    "\r\n",
    "    # TODO: Define a recurrent neural network to recognize one of `num_classes` actions from the given video\r\n",
    "    ### START CODE HERE ###\r\n",
    "    \r\n",
    "    ### END CODE HERE ###\r\n",
    "])"
   ],
   "outputs": [],
   "metadata": {}
  },
  {
   "cell_type": "markdown",
   "source": [
    "Then, compile your model with appropriate parameters."
   ],
   "metadata": {}
  },
  {
   "cell_type": "code",
   "execution_count": null,
   "source": [
    "# TODO: Compile the model with appropriate parameters\r\n",
    "### START CODE HERE ###\r\n",
    "lstm_model.compile(\r\n",
    "\r\n",
    ")\r\n",
    "### END CODE HERE ###"
   ],
   "outputs": [],
   "metadata": {}
  },
  {
   "cell_type": "markdown",
   "source": [
    "### 4. Train the model\n",
    "#### Problem 4\n",
    "Now, train your `lstm_model` using train and validation dataset at least 10 epochs."
   ],
   "metadata": {}
  },
  {
   "cell_type": "code",
   "execution_count": null,
   "source": [
    "# TODO: Train the `lstm_model` using train and validation dataset at least 10 epochs\r\n",
    "### START CODE HERE ###\r\n",
    "lstm_model.fit(\r\n",
    "\r\n",
    ")\r\n",
    "### END CODE HERE ###"
   ],
   "outputs": [],
   "metadata": {}
  },
  {
   "cell_type": "markdown",
   "source": [
    "### 4. Evaluate accuracy\n",
    "#### Problem 5\n",
    "Let's evaluate the trained model using test dataset and print the test accuracy of the model. For your information, the accuracy of the model proposed by the authors who published the UCF101 dataset is 43.90%."
   ],
   "metadata": {}
  },
  {
   "cell_type": "code",
   "execution_count": null,
   "source": [
    "# TODO: Evaluate the model using test dataset\r\n",
    "### START CODE HERE ###\r\n",
    "test_accuracy, test_loss = \r\n",
    "### END CODE HERE ###\r\n",
    "\r\n",
    "print(f'Test accuracy: {test_accuracy:.4f}')\r\n",
    "print(f'Test loss: {test_loss:.4f}')"
   ],
   "outputs": [],
   "metadata": {}
  },
  {
   "cell_type": "markdown",
   "source": [
    "Using the below cell, you can try to recognize an action of the test videos using your trined `lstm_model`."
   ],
   "metadata": {}
  },
  {
   "cell_type": "code",
   "execution_count": null,
   "source": [
    "for frames, label in random.sample(dataset['test'], 3):\r\n",
    "    print('Acutal:', index_to_label[label])\r\n",
    "    \r\n",
    "    print('Predicted:')\r\n",
    "    features = extract_features(decode_frames(frames[:max_length]))\r\n",
    "    predicted = lstm_model(tf.expand_dims(features, 0))[0]\r\n",
    "    for confidence, index in zip(*tf.math.top_k(predicted, k=3)):\r\n",
    "        print(f'- {index_to_label[index]} ({confidence.numpy():.4f})')\r\n",
    "    \r\n",
    "    plot_frames(decode_frames(frames))\r\n",
    "    print()"
   ],
   "outputs": [],
   "metadata": {}
  },
  {
   "cell_type": "markdown",
   "source": [
    "### 5. How to improve\n",
    "\n",
    "If you have improved the performance of your model, please fill in this block."
   ],
   "metadata": {}
  }
 ],
 "metadata": {
  "kernelspec": {
   "display_name": "Python 3",
   "language": "python",
   "name": "python3"
  },
  "language_info": {
   "codemirror_mode": {
    "name": "ipython",
    "version": 3
   },
   "file_extension": ".py",
   "mimetype": "text/x-python",
   "name": "python",
   "nbconvert_exporter": "python",
   "pygments_lexer": "ipython3",
   "version": "3.8.8"
  }
 },
 "nbformat": 4,
 "nbformat_minor": 4
}